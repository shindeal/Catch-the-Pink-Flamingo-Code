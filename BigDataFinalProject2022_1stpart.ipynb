{
  "nbformat": 4,
  "nbformat_minor": 0,
  "metadata": {
    "colab": {
      "name": "BigDataFinalProject2022_1stpart.ipynb",
      "provenance": [],
      "collapsed_sections": [],
      "authorship_tag": "ABX9TyPp0sciINB9Q+uo4V/oU/xM",
      "include_colab_link": true
    },
    "kernelspec": {
      "name": "python3",
      "display_name": "Python 3"
    },
    "language_info": {
      "name": "python"
    }
  },
  "cells": [
    {
      "cell_type": "markdown",
      "metadata": {
        "id": "view-in-github",
        "colab_type": "text"
      },
      "source": [
        "<a href=\"https://colab.research.google.com/github/shindeal/Anjali/blob/main/BigDataFinalProject2022_1stpart.ipynb\" target=\"_parent\"><img src=\"https://colab.research.google.com/assets/colab-badge.svg\" alt=\"Open In Colab\"/></a>"
      ]
    },
    {
      "cell_type": "code",
      "execution_count": null,
      "metadata": {
        "colab": {
          "base_uri": "https://localhost:8080/"
        },
        "id": "B-ADZWob9TKo",
        "outputId": "5c073b19-db0e-483d-da15-401ad1f5c24d"
      },
      "outputs": [
        {
          "output_type": "stream",
          "name": "stdout",
          "text": [
            "Reading package lists... Done\n",
            "Building dependency tree       \n",
            "Reading state information... Done\n",
            "openjdk-8-jdk-headless is already the newest version (8u312-b07-0ubuntu1~18.04).\n",
            "The following packages were automatically installed and are no longer required:\n",
            "  libnvidia-common-460 nsight-compute-2020.2.0\n",
            "Use 'apt autoremove' to remove them.\n",
            "0 upgraded, 0 newly installed, 0 to remove and 42 not upgraded.\n"
          ]
        }
      ],
      "source": [
        "!apt-get install openjdk-8-jdk-headless\n"
      ]
    },
    {
      "cell_type": "code",
      "source": [
        "!wget https://archive.apache.org/dist/spark/spark-3.2.1/spark-3.2.1-bin-hadoop2.7.tgz\n"
      ],
      "metadata": {
        "colab": {
          "base_uri": "https://localhost:8080/"
        },
        "id": "W-RIqXS-9c5p",
        "outputId": "0cfd4ee8-1cb2-4353-fcef-503314b06599"
      },
      "execution_count": null,
      "outputs": [
        {
          "output_type": "stream",
          "name": "stdout",
          "text": [
            "--2022-05-17 14:12:02--  https://archive.apache.org/dist/spark/spark-3.2.1/spark-3.2.1-bin-hadoop2.7.tgz\n",
            "Resolving archive.apache.org (archive.apache.org)... 138.201.131.134, 2a01:4f8:172:2ec5::2\n",
            "Connecting to archive.apache.org (archive.apache.org)|138.201.131.134|:443... connected.\n",
            "HTTP request sent, awaiting response... 200 OK\n",
            "Length: 272637746 (260M) [application/x-gzip]\n",
            "Saving to: ‘spark-3.2.1-bin-hadoop2.7.tgz.2’\n",
            "\n",
            "spark-3.2.1-bin-had 100%[===================>] 260.01M  17.5MB/s    in 16s     \n",
            "\n",
            "2022-05-17 14:12:18 (16.3 MB/s) - ‘spark-3.2.1-bin-hadoop2.7.tgz.2’ saved [272637746/272637746]\n",
            "\n"
          ]
        }
      ]
    },
    {
      "cell_type": "code",
      "source": [
        "!tar xf spark-3.2.1-bin-hadoop2.7.tgz\n"
      ],
      "metadata": {
        "id": "Gufmk9zB9xSZ"
      },
      "execution_count": null,
      "outputs": []
    },
    {
      "cell_type": "code",
      "source": [
        "!pip install -q findspark\n"
      ],
      "metadata": {
        "id": "chAKJh7_9zxt",
        "colab": {
          "base_uri": "https://localhost:8080/"
        },
        "outputId": "8bc87fd6-9848-4096-d3fa-7d5fdeedc3ae"
      },
      "execution_count": null,
      "outputs": [
        {
          "output_type": "stream",
          "name": "stdout",
          "text": [
            "Traceback (most recent call last):\n",
            "  File \"/usr/local/lib/python3.7/dist-packages/pip/_vendor/pkg_resources/__init__.py\", line 3021, in _dep_map\n",
            "    return self.__dep_map\n",
            "  File \"/usr/local/lib/python3.7/dist-packages/pip/_vendor/pkg_resources/__init__.py\", line 2815, in __getattr__\n",
            "    raise AttributeError(attr)\n",
            "AttributeError: _DistInfoDistribution__dep_map\n",
            "\n",
            "During handling of the above exception, another exception occurred:\n",
            "\n",
            "Traceback (most recent call last):\n",
            "  File \"/usr/local/lib/python3.7/dist-packages/pip/_internal/cli/base_command.py\", line 180, in _main\n",
            "    status = self.run(options, args)\n",
            "  File \"/usr/local/lib/python3.7/dist-packages/pip/_internal/cli/req_command.py\", line 199, in wrapper\n",
            "    return func(self, options, args)\n",
            "  File \"/usr/local/lib/python3.7/dist-packages/pip/_internal/commands/install.py\", line 385, in run\n",
            "    conflicts = self._determine_conflicts(to_install)\n",
            "  File \"/usr/local/lib/python3.7/dist-packages/pip/_internal/commands/install.py\", line 515, in _determine_conflicts\n",
            "    return check_install_conflicts(to_install)\n",
            "  File \"/usr/local/lib/python3.7/dist-packages/pip/_internal/operations/check.py\", line 103, in check_install_conflicts\n",
            "    package_set, _ = create_package_set_from_installed()\n",
            "  File \"/usr/local/lib/python3.7/dist-packages/pip/_internal/operations/check.py\", line 45, in create_package_set_from_installed\n",
            "    package_set[name] = PackageDetails(dist.version, dist.requires())\n",
            "  File \"/usr/local/lib/python3.7/dist-packages/pip/_vendor/pkg_resources/__init__.py\", line 2736, in requires\n",
            "    dm = self._dep_map\n",
            "  File \"/usr/local/lib/python3.7/dist-packages/pip/_vendor/pkg_resources/__init__.py\", line 3023, in _dep_map\n",
            "    self.__dep_map = self._compute_dependencies()\n",
            "  File \"/usr/local/lib/python3.7/dist-packages/pip/_vendor/pkg_resources/__init__.py\", line 3033, in _compute_dependencies\n",
            "    reqs.extend(parse_requirements(req))\n",
            "  File \"/usr/local/lib/python3.7/dist-packages/pip/_vendor/pkg_resources/__init__.py\", line 3094, in parse_requirements\n",
            "    yield Requirement(line)\n",
            "  File \"/usr/local/lib/python3.7/dist-packages/pip/_vendor/pkg_resources/__init__.py\", line 3101, in __init__\n",
            "    super(Requirement, self).__init__(requirement_string)\n",
            "  File \"/usr/local/lib/python3.7/dist-packages/pip/_vendor/packaging/requirements.py\", line 113, in __init__\n",
            "    req = REQUIREMENT.parseString(requirement_string)\n",
            "  File \"/usr/local/lib/python3.7/dist-packages/pip/_vendor/pyparsing.py\", line 1943, in parseString\n",
            "    loc, tokens = self._parse(instring, 0)\n",
            "  File \"/usr/local/lib/python3.7/dist-packages/pip/_vendor/pyparsing.py\", line 1683, in _parseNoCache\n",
            "    loc, tokens = self.parseImpl(instring, preloc, doActions)\n",
            "  File \"/usr/local/lib/python3.7/dist-packages/pip/_vendor/pyparsing.py\", line 4055, in parseImpl\n",
            "    if isinstance(e, And._ErrorStop):\n",
            "KeyboardInterrupt\n",
            "\n",
            "During handling of the above exception, another exception occurred:\n",
            "\n",
            "Traceback (most recent call last):\n",
            "  File \"/usr/local/bin/pip3\", line 8, in <module>\n",
            "    sys.exit(main())\n",
            "  File \"/usr/local/lib/python3.7/dist-packages/pip/_internal/cli/main.py\", line 71, in main\n",
            "    return command.main(cmd_args)\n",
            "  File \"/usr/local/lib/python3.7/dist-packages/pip/_internal/cli/base_command.py\", line 104, in main\n",
            "    return self._main(args)\n",
            "  File \"/usr/local/lib/python3.7/dist-packages/pip/_internal/cli/base_command.py\", line 212, in _main\n",
            "    logger.critical(\"Operation cancelled by user\")\n",
            "  File \"/usr/lib/python3.7/logging/__init__.py\", line 1425, in critical\n",
            "    self._log(CRITICAL, msg, args, **kwargs)\n",
            "  File \"/usr/lib/python3.7/logging/__init__.py\", line 1497, in _log\n",
            "    if _srcfile:\n",
            "KeyboardInterrupt\n"
          ]
        }
      ]
    },
    {
      "cell_type": "code",
      "source": [
        "import os\n",
        "os.environ[\"JAVA_HOME\"] = \"/usr/lib/jvm/java-8-openjdk-amd64\"\n",
        "os.environ[\"SPARK_HOME\"] = \"/content/spark-3.2.1-bin-hadoop2.7\""
      ],
      "metadata": {
        "id": "PTADdhFF94l6"
      },
      "execution_count": null,
      "outputs": []
    },
    {
      "cell_type": "code",
      "source": [
        "import findspark\n",
        "findspark.init()\n",
        "findspark.find()"
      ],
      "metadata": {
        "colab": {
          "base_uri": "https://localhost:8080/",
          "height": 36
        },
        "id": "OCfKryMy99BP",
        "outputId": "c226bb69-9dd4-4479-a8c8-b0cb58b9be97"
      },
      "execution_count": null,
      "outputs": [
        {
          "output_type": "execute_result",
          "data": {
            "text/plain": [
              "'/content/spark-3.2.1-bin-hadoop2.7'"
            ],
            "application/vnd.google.colaboratory.intrinsic+json": {
              "type": "string"
            }
          },
          "metadata": {},
          "execution_count": 101
        }
      ]
    },
    {
      "cell_type": "code",
      "source": [
        "from pyspark.sql import SparkSession\n",
        "\n"
      ],
      "metadata": {
        "id": "s9ihPv84-A4H"
      },
      "execution_count": null,
      "outputs": []
    },
    {
      "cell_type": "code",
      "source": [
        "spark = SparkSession.builder\\\n",
        "        .master(\"local\")\\\n",
        "        .appName(\"CatchthePinkFlamingo\")\\\n",
        "        .config('spark.ui.port', '4050')\\\n",
        "        .getOrCreate()"
      ],
      "metadata": {
        "id": "LAPEc1tc-IXa"
      },
      "execution_count": null,
      "outputs": []
    },
    {
      "cell_type": "code",
      "source": [
        "spark"
      ],
      "metadata": {
        "colab": {
          "base_uri": "https://localhost:8080/",
          "height": 222
        },
        "id": "_hB4OWde-L6Q",
        "outputId": "cb217e9a-08a5-4859-c9bd-bc64450fc334"
      },
      "execution_count": null,
      "outputs": [
        {
          "output_type": "execute_result",
          "data": {
            "text/plain": [
              "<pyspark.sql.session.SparkSession at 0x7f82d2f31750>"
            ],
            "text/html": [
              "\n",
              "            <div>\n",
              "                <p><b>SparkSession - in-memory</b></p>\n",
              "                \n",
              "        <div>\n",
              "            <p><b>SparkContext</b></p>\n",
              "\n",
              "            <p><a href=\"http://0dbb19942ac8:4050\">Spark UI</a></p>\n",
              "\n",
              "            <dl>\n",
              "              <dt>Version</dt>\n",
              "                <dd><code>v3.2.1</code></dd>\n",
              "              <dt>Master</dt>\n",
              "                <dd><code>local</code></dd>\n",
              "              <dt>AppName</dt>\n",
              "                <dd><code>CatchthePinkFlamingo</code></dd>\n",
              "            </dl>\n",
              "        </div>\n",
              "        \n",
              "            </div>\n",
              "        "
            ]
          },
          "metadata": {},
          "execution_count": 104
        }
      ]
    },
    {
      "cell_type": "code",
      "source": [
        "teamDF = spark.read.csv(\"team.csv\", header=True, inferSchema=True)\n",
        "teamDF.createOrReplaceTempView(\"team\")\n",
        "teamDF = spark.sql(\"select  * from team desc limit 10\")\n",
        "teamDF.show()"
      ],
      "metadata": {
        "colab": {
          "base_uri": "https://localhost:8080/"
        },
        "id": "B_cSlF6lBBFS",
        "outputId": "573e012c-7b0c-47f0-ef13-8986882cb677"
      },
      "execution_count": null,
      "outputs": [
        {
          "output_type": "stream",
          "name": "stdout",
          "text": [
            "+------+----------+----------------+----------------+-----------+------------+\n",
            "|teamId|      name|teamCreationTime|     teamEndTime|   strength|currentLevel|\n",
            "+------+----------+----------------+----------------+-----------+------------+\n",
            "|    79|   O1uJX7C|12/06/2016 15:33|31/12/9999 23:59|0.774473575|           1|\n",
            "|    92|  WeLHp8HZ|12/06/2016 21:54|31/12/9999 23:59|0.171926026|           1|\n",
            "|     6|    mARlfz|12/06/2016 23:02|31/12/9999 23:59|0.537353044|           1|\n",
            "|     7|xO41jlAo0Y|13/06/2016 06:03|31/12/9999 23:59|0.394370371|           1|\n",
            "|    40|   vdwO0k1|13/06/2016 07:01|31/12/9999 23:59|0.706832959|           1|\n",
            "|    18| VpF5Lrtz7|13/06/2016 12:23|31/12/9999 23:59|0.885469892|           1|\n",
            "|    91| 8brfgFZi6|13/06/2016 12:33|31/12/9999 23:59|0.478092156|           1|\n",
            "|    90| 0sicoF7Pl|13/06/2016 13:06|31/12/9999 23:59|0.443162419|           1|\n",
            "|    78|eGBdAiM6ti|13/06/2016 13:46|31/12/9999 23:59| 0.79692311|           1|\n",
            "|     1|Rlwjub4jqE|13/06/2016 14:20|31/12/9999 23:59|0.105268243|           1|\n",
            "+------+----------+----------------+----------------+-----------+------------+\n",
            "\n"
          ]
        }
      ]
    },
    {
      "cell_type": "code",
      "source": [
        "teamDF.show(1)"
      ],
      "metadata": {
        "colab": {
          "base_uri": "https://localhost:8080/"
        },
        "id": "BP4vTBxUFFwh",
        "outputId": "e296f15a-54f4-415a-ea2a-bc08e2c340d7"
      },
      "execution_count": null,
      "outputs": [
        {
          "output_type": "stream",
          "name": "stdout",
          "text": [
            "+------+-------+----------------+----------------+-----------+------------+\n",
            "|teamId|   name|teamCreationTime|     teamEndTime|   strength|currentLevel|\n",
            "+------+-------+----------------+----------------+-----------+------------+\n",
            "|    79|O1uJX7C|12/06/2016 15:33|31/12/9999 23:59|0.774473575|           1|\n",
            "+------+-------+----------------+----------------+-----------+------------+\n",
            "only showing top 1 row\n",
            "\n"
          ]
        }
      ]
    },
    {
      "cell_type": "code",
      "source": [
        "#top 10 strongest team\n",
        "s = spark.sql(\"select teamId as Team_ID,name,strength  from team order by strength desc limit 10\")\n",
        "s.show()\n",
        "top_10_team = s.toPandas()\n",
        "import matplotlib.pyplot as plt\n",
        "plt.figure();\n",
        "top_10_team.plot.bar( x=\"Team_ID\", y=\"strength\",color=['Blue'],title='Top 10 Strongest Team ',xlabel='Team',ylabel='Strength')"
      ],
      "metadata": {
        "colab": {
          "base_uri": "https://localhost:8080/",
          "height": 615
        },
        "id": "42-28bTMFKpa",
        "outputId": "bf0c4b42-d84f-474a-d4e4-f119ee897efd"
      },
      "execution_count": null,
      "outputs": [
        {
          "output_type": "stream",
          "name": "stdout",
          "text": [
            "+-------+-----------+-----------+\n",
            "|Team_ID|       name|   strength|\n",
            "+-------+-----------+-----------+\n",
            "|    161|    vBm7Odv|0.994851162|\n",
            "|     46|   5ruGsz7L|0.957040326|\n",
            "|      9|  pDG2bAh8T|0.952175553|\n",
            "|    101|t1tqUapfHxV|0.947642097|\n",
            "|     12|WHKzmMokDcK|0.943433611|\n",
            "|     37|    q0jkZDf|0.941534161|\n",
            "|    100|   GbqLMPFL|0.940340988|\n",
            "|     75|CUHY52XVzcF|0.928966887|\n",
            "|     31|  5ePMsvkuN|0.913882906|\n",
            "|      8|  5aw5S13OD|0.908268818|\n",
            "+-------+-----------+-----------+\n",
            "\n"
          ]
        },
        {
          "output_type": "execute_result",
          "data": {
            "text/plain": [
              "<matplotlib.axes._subplots.AxesSubplot at 0x7f82b0c4f850>"
            ]
          },
          "metadata": {},
          "execution_count": 107
        },
        {
          "output_type": "display_data",
          "data": {
            "text/plain": [
              "<Figure size 432x288 with 0 Axes>"
            ]
          },
          "metadata": {}
        },
        {
          "output_type": "display_data",
          "data": {
            "text/plain": [
              "<Figure size 432x288 with 1 Axes>"
            ],
            "image/png": "[encoded data removed]"
          },
          "metadata": {
            "needs_background": "light"
          }
        }
      ]
    },
    {
      "cell_type": "code",
      "source": [
        "top_10_team"
      ],
      "metadata": {
        "colab": {
          "base_uri": "https://localhost:8080/",
          "height": 363
        },
        "id": "CWUu2u2xy-ob",
        "outputId": "18d54b46-692d-4ee5-e929-b9ea506d6c97"
      },
      "execution_count": null,
      "outputs": [
        {
          "output_type": "execute_result",
          "data": {
            "text/plain": [
              "   Team_ID         name  strength\n",
              "0      161      vBm7Odv  0.994851\n",
              "1       46     5ruGsz7L  0.957040\n",
              "2        9    pDG2bAh8T  0.952176\n",
              "3      101  t1tqUapfHxV  0.947642\n",
              "4       12  WHKzmMokDcK  0.943434\n",
              "5       37      q0jkZDf  0.941534\n",
              "6      100     GbqLMPFL  0.940341\n",
              "7       75  CUHY52XVzcF  0.928967\n",
              "8       31    5ePMsvkuN  0.913883\n",
              "9        8    5aw5S13OD  0.908269"
            ],
            "text/html": [
              "\n",
              "  <div id=\"df-eae049c9-230a-4132-a40b-046716fbf5ed\">\n",
              "    <div class=\"colab-df-container\">\n",
              "      <div>\n",
              "<style scoped>\n",
              "    .dataframe tbody tr th:only-of-type {\n",
              "        vertical-align: middle;\n",
              "    }\n",
              "\n",
              "    .dataframe tbody tr th {\n",
              "        vertical-align: top;\n",
              "    }\n",
              "\n",
              "    .dataframe thead th {\n",
              "        text-align: right;\n",
              "    }\n",
              "</style>\n",
              "<table border=\"1\" class=\"dataframe\">\n",
              "  <thead>\n",
              "    <tr style=\"text-align: right;\">\n",
              "      <th></th>\n",
              "      <th>Team_ID</th>\n",
              "      <th>name</th>\n",
              "      <th>strength</th>\n",
              "    </tr>\n",
              "  </thead>\n",
              "  <tbody>\n",
              "    <tr>\n",
              "      <th>0</th>\n",
              "      <td>161</td>\n",
              "      <td>vBm7Odv</td>\n",
              "      <td>0.994851</td>\n",
              "    </tr>\n",
              "    <tr>\n",
              "      <th>1</th>\n",
              "      <td>46</td>\n",
              "      <td>5ruGsz7L</td>\n",
              "      <td>0.957040</td>\n",
              "    </tr>\n",
              "    <tr>\n",
              "      <th>2</th>\n",
              "      <td>9</td>\n",
              "      <td>pDG2bAh8T</td>\n",
              "      <td>0.952176</td>\n",
              "    </tr>\n",
              "    <tr>\n",
              "      <th>3</th>\n",
              "      <td>101</td>\n",
              "      <td>t1tqUapfHxV</td>\n",
              "      <td>0.947642</td>\n",
              "    </tr>\n",
              "    <tr>\n",
              "      <th>4</th>\n",
              "      <td>12</td>\n",
              "      <td>WHKzmMokDcK</td>\n",
              "      <td>0.943434</td>\n",
              "    </tr>\n",
              "    <tr>\n",
              "      <th>5</th>\n",
              "      <td>37</td>\n",
              "      <td>q0jkZDf</td>\n",
              "      <td>0.941534</td>\n",
              "    </tr>\n",
              "    <tr>\n",
              "      <th>6</th>\n",
              "      <td>100</td>\n",
              "      <td>GbqLMPFL</td>\n",
              "      <td>0.940341</td>\n",
              "    </tr>\n",
              "    <tr>\n",
              "      <th>7</th>\n",
              "      <td>75</td>\n",
              "      <td>CUHY52XVzcF</td>\n",
              "      <td>0.928967</td>\n",
              "    </tr>\n",
              "    <tr>\n",
              "      <th>8</th>\n",
              "      <td>31</td>\n",
              "      <td>5ePMsvkuN</td>\n",
              "      <td>0.913883</td>\n",
              "    </tr>\n",
              "    <tr>\n",
              "      <th>9</th>\n",
              "      <td>8</td>\n",
              "      <td>5aw5S13OD</td>\n",
              "      <td>0.908269</td>\n",
              "    </tr>\n",
              "  </tbody>\n",
              "</table>\n",
              "</div>\n",
              "      <button class=\"colab-df-convert\" onclick=\"convertToInteractive('df-eae049c9-230a-4132-a40b-046716fbf5ed')\"\n",
              "              title=\"Convert this dataframe to an interactive table.\"\n",
              "              style=\"display:none;\">\n",
              "        \n",
              "  <svg xmlns=\"http://www.w3.org/2000/svg\" height=\"24px\"viewBox=\"0 0 24 24\"\n",
              "       width=\"24px\">\n",
              "    <path d=\"M0 0h24v24H0V0z\" fill=\"none\"/>\n",
              "    <path d=\"M18.56 5.44l.94 2.06.94-2.06 2.06-.94-2.06-.94-.94-2.06-.94 2.06-2.06.94zm-11 1L8.5 8.5l.94-2.06 2.06-.94-2.06-.94L8.5 2.5l-.94 2.06-2.06.94zm10 10l.94 2.06.94-2.06 2.06-.94-2.06-.94-.94-2.06-.94 2.06-2.06.94z\"/><path d=\"M17.41 7.96l-1.37-1.37c-.4-.4-.92-.59-1.43-.59-.52 0-1.04.2-1.43.59L10.3 9.45l-7.72 7.72c-.78.78-.78 2.05 0 2.83L4 21.41c.39.39.9.59 1.41.59.51 0 1.02-.2 1.41-.59l7.78-7.78 2.81-2.81c.8-.78.8-2.07 0-2.86zM5.41 20L4 18.59l7.72-7.72 1.47 1.35L5.41 20z\"/>\n",
              "  </svg>\n",
              "      </button>\n",
              "      \n",
              "  <style>\n",
              "    .colab-df-container {\n",
              "      display:flex;\n",
              "      flex-wrap:wrap;\n",
              "      gap: 12px;\n",
              "    }\n",
              "\n",
              "    .colab-df-convert {\n",
              "      background-color: #E8F0FE;\n",
              "      border: none;\n",
              "      border-radius: 50%;\n",
              "      cursor: pointer;\n",
              "      display: none;\n",
              "      fill: #1967D2;\n",
              "      height: 32px;\n",
              "      padding: 0 0 0 0;\n",
              "      width: 32px;\n",
              "    }\n",
              "\n",
              "    .colab-df-convert:hover {\n",
              "      background-color: #E2EBFA;\n",
              "      box-shadow: 0px 1px 2px rgba(60, 64, 67, 0.3), 0px 1px 3px 1px rgba(60, 64, 67, 0.15);\n",
              "      fill: #174EA6;\n",
              "    }\n",
              "\n",
              "    [theme=dark] .colab-df-convert {\n",
              "      background-color: #3B4455;\n",
              "      fill: #D2E3FC;\n",
              "    }\n",
              "\n",
              "    [theme=dark] .colab-df-convert:hover {\n",
              "      background-color: #434B5C;\n",
              "      box-shadow: 0px 1px 3px 1px rgba(0, 0, 0, 0.15);\n",
              "      filter: drop-shadow(0px 1px 2px rgba(0, 0, 0, 0.3));\n",
              "      fill: #FFFFFF;\n",
              "    }\n",
              "  </style>\n",
              "\n",
              "      <script>\n",
              "        const buttonEl =\n",
              "          document.querySelector('#df-eae049c9-230a-4132-a40b-046716fbf5ed button.colab-df-convert');\n",
              "        buttonEl.style.display =\n",
              "          google.colab.kernel.accessAllowed ? 'block' : 'none';\n",
              "\n",
              "        async function convertToInteractive(key) {\n",
              "          const element = document.querySelector('#df-eae049c9-230a-4132-a40b-046716fbf5ed');\n",
              "          const dataTable =\n",
              "            await google.colab.kernel.invokeFunction('convertToInteractive',\n",
              "                                                     [key], {});\n",
              "          if (!dataTable) return;\n",
              "\n",
              "          const docLinkHtml = 'Like what you see? Visit the ' +\n",
              "            '<a target=\"_blank\" href=https://colab.research.google.com/notebooks/data_table.ipynb>data table notebook</a>'\n",
              "            + ' to learn more about interactive tables.';\n",
              "          element.innerHTML = '';\n",
              "          dataTable['output_type'] = 'display_data';\n",
              "          await google.colab.output.renderOutput(dataTable, element);\n",
              "          const docLink = document.createElement('div');\n",
              "          docLink.innerHTML = docLinkHtml;\n",
              "          element.appendChild(docLink);\n",
              "        }\n",
              "      </script>\n",
              "    </div>\n",
              "  </div>\n",
              "  "
            ]
          },
          "metadata": {},
          "execution_count": 108
        }
      ]
    },
    {
      "cell_type": "code",
      "source": [
        "import matplotlib.pyplot as plt\n",
        "import seaborn as sns\n",
        "%matplotlib inline\n",
        "sns.barplot(x='Team_ID',y='strength',data=top_10_team,palette='winter_r').set(title='Top 10 Strongest Team')"
      ],
      "metadata": {
        "colab": {
          "base_uri": "https://localhost:8080/",
          "height": 314
        },
        "id": "YqHLRZcdy4_R",
        "outputId": "df0ae8c1-e594-4661-fcc9-edcaff44010d"
      },
      "execution_count": null,
      "outputs": [
        {
          "output_type": "execute_result",
          "data": {
            "text/plain": [
              "[Text(0.5, 1.0, 'Top 10 Strongest Team')]"
            ]
          },
          "metadata": {},
          "execution_count": 109
        },
        {
          "output_type": "display_data",
          "data": {
            "text/plain": [
              "<Figure size 432x288 with 1 Axes>"
            ],
            "image/png": "[encoded data removed]"
          },
          "metadata": {
            "needs_background": "light"
          }
        }
      ]
    },
    {
      "cell_type": "code",
      "source": [
        "#to get time difference between start and end time, since there is no time difference nothing much to show on this\n",
        "s = spark.sql(\"select teamCreationTime, teamEndTime, ((bigint(to_timestamp(teamEndTime)))-(bigint(to_timestamp(teamCreationTime))))/(60) as diff from team desc limit 10\")\n",
        "s.show()\n",
        "\n"
      ],
      "metadata": {
        "colab": {
          "base_uri": "https://localhost:8080/"
        },
        "id": "dBHgPAB7MCpo",
        "outputId": "1753f035-04c1-46ac-e964-e8f6341a61cb"
      },
      "execution_count": null,
      "outputs": [
        {
          "output_type": "stream",
          "name": "stdout",
          "text": [
            "+----------------+----------------+----+\n",
            "|teamCreationTime|     teamEndTime|diff|\n",
            "+----------------+----------------+----+\n",
            "|12/06/2016 15:33|31/12/9999 23:59|null|\n",
            "|12/06/2016 21:54|31/12/9999 23:59|null|\n",
            "|12/06/2016 23:02|31/12/9999 23:59|null|\n",
            "|13/06/2016 06:03|31/12/9999 23:59|null|\n",
            "|13/06/2016 07:01|31/12/9999 23:59|null|\n",
            "|13/06/2016 12:23|31/12/9999 23:59|null|\n",
            "|13/06/2016 12:33|31/12/9999 23:59|null|\n",
            "|13/06/2016 13:06|31/12/9999 23:59|null|\n",
            "|13/06/2016 13:46|31/12/9999 23:59|null|\n",
            "|13/06/2016 14:20|31/12/9999 23:59|null|\n",
            "+----------------+----------------+----+\n",
            "\n"
          ]
        }
      ]
    },
    {
      "cell_type": "code",
      "source": [
        "userdf = spark.read.csv(\"users.csv\", header=True, inferSchema=True)\n",
        "userdf.createOrReplaceTempView(\"user\")\n",
        "userdf = spark.sql(\"select  * from user desc limit 10\")\n",
        "userdf.show(1)"
      ],
      "metadata": {
        "colab": {
          "base_uri": "https://localhost:8080/"
        },
        "id": "R5hF9kGdCo15",
        "outputId": "22c4b46e-d520-4a5f-cdba-6f0281852662"
      },
      "execution_count": null,
      "outputs": [
        {
          "output_type": "stream",
          "name": "stdout",
          "text": [
            "+----------------+------+--------+--------+----------+-------+\n",
            "|       timestamp|userId|    nick| twitter|       dob|country|\n",
            "+----------------+------+--------+--------+----------+-------+\n",
            "|19/06/2012 14:53|   442|pcjIOBKW|@SZhyOHv|20/07/1994|     BA|\n",
            "+----------------+------+--------+--------+----------+-------+\n",
            "only showing top 1 row\n",
            "\n"
          ]
        }
      ]
    },
    {
      "cell_type": "code",
      "source": [
        "#which country played the most\n",
        "countrydf = spark.sql(\"select country,count(*) as count from user group by country order by count  desc limit 10\")\n",
        "countrydf.show()"
      ],
      "metadata": {
        "colab": {
          "base_uri": "https://localhost:8080/"
        },
        "id": "zP5DGDXMPpno",
        "outputId": "5939fec6-14e3-40ea-e8d7-60ab95a8d9f9"
      },
      "execution_count": null,
      "outputs": [
        {
          "output_type": "stream",
          "name": "stdout",
          "text": [
            "+-------+-----+\n",
            "|country|count|\n",
            "+-------+-----+\n",
            "|     RO|   10|\n",
            "|     MN|   10|\n",
            "|     ZM|   10|\n",
            "|     LT|   10|\n",
            "|     KI|   10|\n",
            "|     TC|   10|\n",
            "|     SL|   10|\n",
            "|     FI|   10|\n",
            "|     NL|   10|\n",
            "|     SC|   10|\n",
            "+-------+-----+\n",
            "\n"
          ]
        }
      ]
    },
    {
      "cell_type": "code",
      "source": [
        "#which country played the most\n",
        "countrydf = spark.sql(\"select country,count(*) as count from user group by country order by count  desc limit 10\")\n",
        "countrydf.show()\n",
        "top_10_c = countrydf.toPandas()"
      ],
      "metadata": {
        "colab": {
          "base_uri": "https://localhost:8080/"
        },
        "id": "O2kolhiSznuZ",
        "outputId": "0af277a6-92a1-472e-e989-2ae370bfadfe"
      },
      "execution_count": null,
      "outputs": [
        {
          "output_type": "stream",
          "name": "stdout",
          "text": [
            "+-------+-----+\n",
            "|country|count|\n",
            "+-------+-----+\n",
            "|     RO|   10|\n",
            "|     MN|   10|\n",
            "|     ZM|   10|\n",
            "|     LT|   10|\n",
            "|     KI|   10|\n",
            "|     TC|   10|\n",
            "|     SL|   10|\n",
            "|     FI|   10|\n",
            "|     NL|   10|\n",
            "|     SC|   10|\n",
            "+-------+-----+\n",
            "\n"
          ]
        }
      ]
    },
    {
      "cell_type": "code",
      "source": [
        "#Top 10 countries\n",
        "import matplotlib.pyplot as plt\n",
        "import seaborn as sns\n",
        "%matplotlib inline\n",
        "sns.barplot(x='country',y='count',data=top_10_c,palette='spring').set(title='Top 10 Country')"
      ],
      "metadata": {
        "colab": {
          "base_uri": "https://localhost:8080/",
          "height": 313
        },
        "id": "gylIq8b3RcMc",
        "outputId": "1fc8f704-c623-48a9-8fb5-c08ecc9c8797"
      },
      "execution_count": null,
      "outputs": [
        {
          "output_type": "execute_result",
          "data": {
            "text/plain": [
              "[Text(0.5, 1.0, 'Top 10 Country')]"
            ]
          },
          "metadata": {},
          "execution_count": 114
        },
        {
          "output_type": "display_data",
          "data": {
            "text/plain": [
              "<Figure size 432x288 with 1 Axes>"
            ],
            "image/png": "[encoded data removed]"
          },
          "metadata": {
            "needs_background": "light"
          }
        }
      ]
    },
    {
      "cell_type": "code",
      "source": [
        "userdf.show(1)"
      ],
      "metadata": {
        "colab": {
          "base_uri": "https://localhost:8080/"
        },
        "id": "3tiLYwVjT5qF",
        "outputId": "b1d04ec3-0d6f-43bf-af45-2a750e908166"
      },
      "execution_count": null,
      "outputs": [
        {
          "output_type": "stream",
          "name": "stdout",
          "text": [
            "+----------------+------+--------+--------+----------+-------+\n",
            "|       timestamp|userId|    nick| twitter|       dob|country|\n",
            "+----------------+------+--------+--------+----------+-------+\n",
            "|19/06/2012 14:53|   442|pcjIOBKW|@SZhyOHv|20/07/1994|     BA|\n",
            "+----------------+------+--------+--------+----------+-------+\n",
            "only showing top 1 row\n",
            "\n"
          ]
        }
      ]
    },
    {
      "cell_type": "code",
      "source": [
        "#Date of Birth\n",
        "dobdf = spark.sql(\"select substring(dob,7,5) as Birth_Year , count(*) as count, substring(current_date(),1,4) as cd,(substring(current_date(),1,4)-substring(dob,7,5))  as Age from user group by Birth_Year order by count(*) desc limit 10\" )\n",
        "dobdf.show(10)\n",
        "#dobdf = spark.sql(\"select substring(dob,1,4) as db , count(*), substring(current_date(),1,4) as cd, datediff(substring(current_date(),1,4), substring(dob,1,4) ), (substring(current_date(),1,4)-substring(dob,1,4)) from user group by db order by count(*) desc\" )\n",
        "age_grp = dobdf.toPandas()\n",
        "age_grp\n",
        "import matplotlib.pyplot as plt\n",
        "plt.figure();\n",
        "age_grp.plot.barh(x=\"Age\",color=['blue'],title='Age Distribution',xlabel='Count',ylabel='Age')\n",
        "\n"
      ],
      "metadata": {
        "colab": {
          "base_uri": "https://localhost:8080/",
          "height": 592
        },
        "id": "EajXlKY--auw",
        "outputId": "cdfce449-98c8-4e92-8d55-67686291996f"
      },
      "execution_count": null,
      "outputs": [
        {
          "output_type": "stream",
          "name": "stdout",
          "text": [
            "+----------+-----+----+----+\n",
            "|Birth_Year|count|  cd| Age|\n",
            "+----------+-----+----+----+\n",
            "|      1994|   72|2022|28.0|\n",
            "|      1992|   71|2022|30.0|\n",
            "|      1989|   70|2022|33.0|\n",
            "|      1984|   68|2022|38.0|\n",
            "|      1979|   68|2022|43.0|\n",
            "|      1985|   66|2022|37.0|\n",
            "|      1991|   64|2022|31.0|\n",
            "|      1997|   63|2022|25.0|\n",
            "|      1996|   63|2022|26.0|\n",
            "|      1993|   61|2022|29.0|\n",
            "+----------+-----+----+----+\n",
            "\n"
          ]
        },
        {
          "output_type": "execute_result",
          "data": {
            "text/plain": [
              "<matplotlib.axes._subplots.AxesSubplot at 0x7f82b02f4e90>"
            ]
          },
          "metadata": {},
          "execution_count": 116
        },
        {
          "output_type": "display_data",
          "data": {
            "text/plain": [
              "<Figure size 432x288 with 0 Axes>"
            ]
          },
          "metadata": {}
        },
        {
          "output_type": "display_data",
          "data": {
            "text/plain": [
              "<Figure size 432x288 with 1 Axes>"
            ],
            "image/png": "[encoded data removed]"
          },
          "metadata": {
            "needs_background": "light"
          }
        }
      ]
    },
    {
      "cell_type": "code",
      "source": [
        "age_grp"
      ],
      "metadata": {
        "colab": {
          "base_uri": "https://localhost:8080/",
          "height": 363
        },
        "id": "6p-0oGDDx958",
        "outputId": "5e6ccf44-8474-45de-bc16-8fb1bc5bc4ec"
      },
      "execution_count": null,
      "outputs": [
        {
          "output_type": "execute_result",
          "data": {
            "text/plain": [
              "  Birth_Year  count    cd   Age\n",
              "0       1994     72  2022  28.0\n",
              "1       1992     71  2022  30.0\n",
              "2       1989     70  2022  33.0\n",
              "3       1984     68  2022  38.0\n",
              "4       1979     68  2022  43.0\n",
              "5       1985     66  2022  37.0\n",
              "6       1991     64  2022  31.0\n",
              "7       1997     63  2022  25.0\n",
              "8       1996     63  2022  26.0\n",
              "9       1993     61  2022  29.0"
            ],
            "text/html": [
              "\n",
              "  <div id=\"df-3eeb84d8-11b7-43f3-88f9-a853a25a013f\">\n",
              "    <div class=\"colab-df-container\">\n",
              "      <div>\n",
              "<style scoped>\n",
              "    .dataframe tbody tr th:only-of-type {\n",
              "        vertical-align: middle;\n",
              "    }\n",
              "\n",
              "    .dataframe tbody tr th {\n",
              "        vertical-align: top;\n",
              "    }\n",
              "\n",
              "    .dataframe thead th {\n",
              "        text-align: right;\n",
              "    }\n",
              "</style>\n",
              "<table border=\"1\" class=\"dataframe\">\n",
              "  <thead>\n",
              "    <tr style=\"text-align: right;\">\n",
              "      <th></th>\n",
              "      <th>Birth_Year</th>\n",
              "      <th>count</th>\n",
              "      <th>cd</th>\n",
              "      <th>Age</th>\n",
              "    </tr>\n",
              "  </thead>\n",
              "  <tbody>\n",
              "    <tr>\n",
              "      <th>0</th>\n",
              "      <td>1994</td>\n",
              "      <td>72</td>\n",
              "      <td>2022</td>\n",
              "      <td>28.0</td>\n",
              "    </tr>\n",
              "    <tr>\n",
              "      <th>1</th>\n",
              "      <td>1992</td>\n",
              "      <td>71</td>\n",
              "      <td>2022</td>\n",
              "      <td>30.0</td>\n",
              "    </tr>\n",
              "    <tr>\n",
              "      <th>2</th>\n",
              "      <td>1989</td>\n",
              "      <td>70</td>\n",
              "      <td>2022</td>\n",
              "      <td>33.0</td>\n",
              "    </tr>\n",
              "    <tr>\n",
              "      <th>3</th>\n",
              "      <td>1984</td>\n",
              "      <td>68</td>\n",
              "      <td>2022</td>\n",
              "      <td>38.0</td>\n",
              "    </tr>\n",
              "    <tr>\n",
              "      <th>4</th>\n",
              "      <td>1979</td>\n",
              "      <td>68</td>\n",
              "      <td>2022</td>\n",
              "      <td>43.0</td>\n",
              "    </tr>\n",
              "    <tr>\n",
              "      <th>5</th>\n",
              "      <td>1985</td>\n",
              "      <td>66</td>\n",
              "      <td>2022</td>\n",
              "      <td>37.0</td>\n",
              "    </tr>\n",
              "    <tr>\n",
              "      <th>6</th>\n",
              "      <td>1991</td>\n",
              "      <td>64</td>\n",
              "      <td>2022</td>\n",
              "      <td>31.0</td>\n",
              "    </tr>\n",
              "    <tr>\n",
              "      <th>7</th>\n",
              "      <td>1997</td>\n",
              "      <td>63</td>\n",
              "      <td>2022</td>\n",
              "      <td>25.0</td>\n",
              "    </tr>\n",
              "    <tr>\n",
              "      <th>8</th>\n",
              "      <td>1996</td>\n",
              "      <td>63</td>\n",
              "      <td>2022</td>\n",
              "      <td>26.0</td>\n",
              "    </tr>\n",
              "    <tr>\n",
              "      <th>9</th>\n",
              "      <td>1993</td>\n",
              "      <td>61</td>\n",
              "      <td>2022</td>\n",
              "      <td>29.0</td>\n",
              "    </tr>\n",
              "  </tbody>\n",
              "</table>\n",
              "</div>\n",
              "      <button class=\"colab-df-convert\" onclick=\"convertToInteractive('df-3eeb84d8-11b7-43f3-88f9-a853a25a013f')\"\n",
              "              title=\"Convert this dataframe to an interactive table.\"\n",
              "              style=\"display:none;\">\n",
              "        \n",
              "  <svg xmlns=\"http://www.w3.org/2000/svg\" height=\"24px\"viewBox=\"0 0 24 24\"\n",
              "       width=\"24px\">\n",
              "    <path d=\"M0 0h24v24H0V0z\" fill=\"none\"/>\n",
              "    <path d=\"M18.56 5.44l.94 2.06.94-2.06 2.06-.94-2.06-.94-.94-2.06-.94 2.06-2.06.94zm-11 1L8.5 8.5l.94-2.06 2.06-.94-2.06-.94L8.5 2.5l-.94 2.06-2.06.94zm10 10l.94 2.06.94-2.06 2.06-.94-2.06-.94-.94-2.06-.94 2.06-2.06.94z\"/><path d=\"M17.41 7.96l-1.37-1.37c-.4-.4-.92-.59-1.43-.59-.52 0-1.04.2-1.43.59L10.3 9.45l-7.72 7.72c-.78.78-.78 2.05 0 2.83L4 21.41c.39.39.9.59 1.41.59.51 0 1.02-.2 1.41-.59l7.78-7.78 2.81-2.81c.8-.78.8-2.07 0-2.86zM5.41 20L4 18.59l7.72-7.72 1.47 1.35L5.41 20z\"/>\n",
              "  </svg>\n",
              "      </button>\n",
              "      \n",
              "  <style>\n",
              "    .colab-df-container {\n",
              "      display:flex;\n",
              "      flex-wrap:wrap;\n",
              "      gap: 12px;\n",
              "    }\n",
              "\n",
              "    .colab-df-convert {\n",
              "      background-color: #E8F0FE;\n",
              "      border: none;\n",
              "      border-radius: 50%;\n",
              "      cursor: pointer;\n",
              "      display: none;\n",
              "      fill: #1967D2;\n",
              "      height: 32px;\n",
              "      padding: 0 0 0 0;\n",
              "      width: 32px;\n",
              "    }\n",
              "\n",
              "    .colab-df-convert:hover {\n",
              "      background-color: #E2EBFA;\n",
              "      box-shadow: 0px 1px 2px rgba(60, 64, 67, 0.3), 0px 1px 3px 1px rgba(60, 64, 67, 0.15);\n",
              "      fill: #174EA6;\n",
              "    }\n",
              "\n",
              "    [theme=dark] .colab-df-convert {\n",
              "      background-color: #3B4455;\n",
              "      fill: #D2E3FC;\n",
              "    }\n",
              "\n",
              "    [theme=dark] .colab-df-convert:hover {\n",
              "      background-color: #434B5C;\n",
              "      box-shadow: 0px 1px 3px 1px rgba(0, 0, 0, 0.15);\n",
              "      filter: drop-shadow(0px 1px 2px rgba(0, 0, 0, 0.3));\n",
              "      fill: #FFFFFF;\n",
              "    }\n",
              "  </style>\n",
              "\n",
              "      <script>\n",
              "        const buttonEl =\n",
              "          document.querySelector('#df-3eeb84d8-11b7-43f3-88f9-a853a25a013f button.colab-df-convert');\n",
              "        buttonEl.style.display =\n",
              "          google.colab.kernel.accessAllowed ? 'block' : 'none';\n",
              "\n",
              "        async function convertToInteractive(key) {\n",
              "          const element = document.querySelector('#df-3eeb84d8-11b7-43f3-88f9-a853a25a013f');\n",
              "          const dataTable =\n",
              "            await google.colab.kernel.invokeFunction('convertToInteractive',\n",
              "                                                     [key], {});\n",
              "          if (!dataTable) return;\n",
              "\n",
              "          const docLinkHtml = 'Like what you see? Visit the ' +\n",
              "            '<a target=\"_blank\" href=https://colab.research.google.com/notebooks/data_table.ipynb>data table notebook</a>'\n",
              "            + ' to learn more about interactive tables.';\n",
              "          element.innerHTML = '';\n",
              "          dataTable['output_type'] = 'display_data';\n",
              "          await google.colab.output.renderOutput(dataTable, element);\n",
              "          const docLink = document.createElement('div');\n",
              "          docLink.innerHTML = docLinkHtml;\n",
              "          element.appendChild(docLink);\n",
              "        }\n",
              "      </script>\n",
              "    </div>\n",
              "  </div>\n",
              "  "
            ]
          },
          "metadata": {},
          "execution_count": 117
        }
      ]
    },
    {
      "cell_type": "code",
      "source": [
        "#Age wise distribution\n",
        "import matplotlib.pyplot as plt\n",
        "import seaborn as sns\n",
        "%matplotlib inline\n",
        "sns.barplot(x='Age',y='count',hue='Age',data=age_grp).set(title='Age Distribution')"
      ],
      "metadata": {
        "colab": {
          "base_uri": "https://localhost:8080/",
          "height": 313
        },
        "id": "S5mCSAgEpQB1",
        "outputId": "c1ceeef3-9f51-4c53-f4c9-ae118a42495e"
      },
      "execution_count": null,
      "outputs": [
        {
          "output_type": "execute_result",
          "data": {
            "text/plain": [
              "[Text(0.5, 1.0, 'Age Distribution')]"
            ]
          },
          "metadata": {},
          "execution_count": 118
        },
        {
          "output_type": "display_data",
          "data": {
            "text/plain": [
              "<Figure size 432x288 with 1 Axes>"
            ],
            "image/png": "[encoded data removed]"
          },
          "metadata": {
            "needs_background": "light"
          }
        }
      ]
    },
    {
      "cell_type": "code",
      "source": [
        "sns.barplot(x='Birth_Year',y='count',data=age_grp).set(title='Year Wise Distribution')\n"
      ],
      "metadata": {
        "colab": {
          "base_uri": "https://localhost:8080/",
          "height": 314
        },
        "id": "kzvGp-IWqqPo",
        "outputId": "5a88dfd8-92cd-44db-b376-7f8dc6a696c3"
      },
      "execution_count": null,
      "outputs": [
        {
          "output_type": "execute_result",
          "data": {
            "text/plain": [
              "[Text(0.5, 1.0, 'Year Wise Distribution')]"
            ]
          },
          "metadata": {},
          "execution_count": 119
        },
        {
          "output_type": "display_data",
          "data": {
            "text/plain": [
              "<Figure size 432x288 with 1 Axes>"
            ],
            "image/png": "[encoded data removed]"
          },
          "metadata": {
            "needs_background": "light"
          }
        }
      ]
    },
    {
      "cell_type": "code",
      "source": [
        "age_grp"
      ],
      "metadata": {
        "colab": {
          "base_uri": "https://localhost:8080/",
          "height": 363
        },
        "id": "ns2U9rR3lo8-",
        "outputId": "079f8958-ea24-4e98-bf42-d86f82d35fc0"
      },
      "execution_count": null,
      "outputs": [
        {
          "output_type": "execute_result",
          "data": {
            "text/plain": [
              "  Birth_Year  count    cd   Age\n",
              "0       1994     72  2022  28.0\n",
              "1       1992     71  2022  30.0\n",
              "2       1989     70  2022  33.0\n",
              "3       1984     68  2022  38.0\n",
              "4       1979     68  2022  43.0\n",
              "5       1985     66  2022  37.0\n",
              "6       1991     64  2022  31.0\n",
              "7       1997     63  2022  25.0\n",
              "8       1996     63  2022  26.0\n",
              "9       1993     61  2022  29.0"
            ],
            "text/html": [
              "\n",
              "  <div id=\"df-de258e0a-2746-4b36-bcc2-41f9d48b252c\">\n",
              "    <div class=\"colab-df-container\">\n",
              "      <div>\n",
              "<style scoped>\n",
              "    .dataframe tbody tr th:only-of-type {\n",
              "        vertical-align: middle;\n",
              "    }\n",
              "\n",
              "    .dataframe tbody tr th {\n",
              "        vertical-align: top;\n",
              "    }\n",
              "\n",
              "    .dataframe thead th {\n",
              "        text-align: right;\n",
              "    }\n",
              "</style>\n",
              "<table border=\"1\" class=\"dataframe\">\n",
              "  <thead>\n",
              "    <tr style=\"text-align: right;\">\n",
              "      <th></th>\n",
              "      <th>Birth_Year</th>\n",
              "      <th>count</th>\n",
              "      <th>cd</th>\n",
              "      <th>Age</th>\n",
              "    </tr>\n",
              "  </thead>\n",
              "  <tbody>\n",
              "    <tr>\n",
              "      <th>0</th>\n",
              "      <td>1994</td>\n",
              "      <td>72</td>\n",
              "      <td>2022</td>\n",
              "      <td>28.0</td>\n",
              "    </tr>\n",
              "    <tr>\n",
              "      <th>1</th>\n",
              "      <td>1992</td>\n",
              "      <td>71</td>\n",
              "      <td>2022</td>\n",
              "      <td>30.0</td>\n",
              "    </tr>\n",
              "    <tr>\n",
              "      <th>2</th>\n",
              "      <td>1989</td>\n",
              "      <td>70</td>\n",
              "      <td>2022</td>\n",
              "      <td>33.0</td>\n",
              "    </tr>\n",
              "    <tr>\n",
              "      <th>3</th>\n",
              "      <td>1984</td>\n",
              "      <td>68</td>\n",
              "      <td>2022</td>\n",
              "      <td>38.0</td>\n",
              "    </tr>\n",
              "    <tr>\n",
              "      <th>4</th>\n",
              "      <td>1979</td>\n",
              "      <td>68</td>\n",
              "      <td>2022</td>\n",
              "      <td>43.0</td>\n",
              "    </tr>\n",
              "    <tr>\n",
              "      <th>5</th>\n",
              "      <td>1985</td>\n",
              "      <td>66</td>\n",
              "      <td>2022</td>\n",
              "      <td>37.0</td>\n",
              "    </tr>\n",
              "    <tr>\n",
              "      <th>6</th>\n",
              "      <td>1991</td>\n",
              "      <td>64</td>\n",
              "      <td>2022</td>\n",
              "      <td>31.0</td>\n",
              "    </tr>\n",
              "    <tr>\n",
              "      <th>7</th>\n",
              "      <td>1997</td>\n",
              "      <td>63</td>\n",
              "      <td>2022</td>\n",
              "      <td>25.0</td>\n",
              "    </tr>\n",
              "    <tr>\n",
              "      <th>8</th>\n",
              "      <td>1996</td>\n",
              "      <td>63</td>\n",
              "      <td>2022</td>\n",
              "      <td>26.0</td>\n",
              "    </tr>\n",
              "    <tr>\n",
              "      <th>9</th>\n",
              "      <td>1993</td>\n",
              "      <td>61</td>\n",
              "      <td>2022</td>\n",
              "      <td>29.0</td>\n",
              "    </tr>\n",
              "  </tbody>\n",
              "</table>\n",
              "</div>\n",
              "      <button class=\"colab-df-convert\" onclick=\"convertToInteractive('df-de258e0a-2746-4b36-bcc2-41f9d48b252c')\"\n",
              "              title=\"Convert this dataframe to an interactive table.\"\n",
              "              style=\"display:none;\">\n",
              "        \n",
              "  <svg xmlns=\"http://www.w3.org/2000/svg\" height=\"24px\"viewBox=\"0 0 24 24\"\n",
              "       width=\"24px\">\n",
              "    <path d=\"M0 0h24v24H0V0z\" fill=\"none\"/>\n",
              "    <path d=\"M18.56 5.44l.94 2.06.94-2.06 2.06-.94-2.06-.94-.94-2.06-.94 2.06-2.06.94zm-11 1L8.5 8.5l.94-2.06 2.06-.94-2.06-.94L8.5 2.5l-.94 2.06-2.06.94zm10 10l.94 2.06.94-2.06 2.06-.94-2.06-.94-.94-2.06-.94 2.06-2.06.94z\"/><path d=\"M17.41 7.96l-1.37-1.37c-.4-.4-.92-.59-1.43-.59-.52 0-1.04.2-1.43.59L10.3 9.45l-7.72 7.72c-.78.78-.78 2.05 0 2.83L4 21.41c.39.39.9.59 1.41.59.51 0 1.02-.2 1.41-.59l7.78-7.78 2.81-2.81c.8-.78.8-2.07 0-2.86zM5.41 20L4 18.59l7.72-7.72 1.47 1.35L5.41 20z\"/>\n",
              "  </svg>\n",
              "      </button>\n",
              "      \n",
              "  <style>\n",
              "    .colab-df-container {\n",
              "      display:flex;\n",
              "      flex-wrap:wrap;\n",
              "      gap: 12px;\n",
              "    }\n",
              "\n",
              "    .colab-df-convert {\n",
              "      background-color: #E8F0FE;\n",
              "      border: none;\n",
              "      border-radius: 50%;\n",
              "      cursor: pointer;\n",
              "      display: none;\n",
              "      fill: #1967D2;\n",
              "      height: 32px;\n",
              "      padding: 0 0 0 0;\n",
              "      width: 32px;\n",
              "    }\n",
              "\n",
              "    .colab-df-convert:hover {\n",
              "      background-color: #E2EBFA;\n",
              "      box-shadow: 0px 1px 2px rgba(60, 64, 67, 0.3), 0px 1px 3px 1px rgba(60, 64, 67, 0.15);\n",
              "      fill: #174EA6;\n",
              "    }\n",
              "\n",
              "    [theme=dark] .colab-df-convert {\n",
              "      background-color: #3B4455;\n",
              "      fill: #D2E3FC;\n",
              "    }\n",
              "\n",
              "    [theme=dark] .colab-df-convert:hover {\n",
              "      background-color: #434B5C;\n",
              "      box-shadow: 0px 1px 3px 1px rgba(0, 0, 0, 0.15);\n",
              "      filter: drop-shadow(0px 1px 2px rgba(0, 0, 0, 0.3));\n",
              "      fill: #FFFFFF;\n",
              "    }\n",
              "  </style>\n",
              "\n",
              "      <script>\n",
              "        const buttonEl =\n",
              "          document.querySelector('#df-de258e0a-2746-4b36-bcc2-41f9d48b252c button.colab-df-convert');\n",
              "        buttonEl.style.display =\n",
              "          google.colab.kernel.accessAllowed ? 'block' : 'none';\n",
              "\n",
              "        async function convertToInteractive(key) {\n",
              "          const element = document.querySelector('#df-de258e0a-2746-4b36-bcc2-41f9d48b252c');\n",
              "          const dataTable =\n",
              "            await google.colab.kernel.invokeFunction('convertToInteractive',\n",
              "                                                     [key], {});\n",
              "          if (!dataTable) return;\n",
              "\n",
              "          const docLinkHtml = 'Like what you see? Visit the ' +\n",
              "            '<a target=\"_blank\" href=https://colab.research.google.com/notebooks/data_table.ipynb>data table notebook</a>'\n",
              "            + ' to learn more about interactive tables.';\n",
              "          element.innerHTML = '';\n",
              "          dataTable['output_type'] = 'display_data';\n",
              "          await google.colab.output.renderOutput(dataTable, element);\n",
              "          const docLink = document.createElement('div');\n",
              "          docLink.innerHTML = docLinkHtml;\n",
              "          element.appendChild(docLink);\n",
              "        }\n",
              "      </script>\n",
              "    </div>\n",
              "  </div>\n",
              "  "
            ]
          },
          "metadata": {},
          "execution_count": 120
        }
      ]
    },
    {
      "cell_type": "code",
      "source": [
        "team_assdf = spark.read.csv(\"team-assignments.csv\", header=True, inferSchema=True)\n",
        "team_assdf.createOrReplaceTempView(\"team_ass\")\n",
        "team_assdf = spark.sql(\"select  * from team_ass desc limit 10\")\n",
        "team_assdf.show()"
      ],
      "metadata": {
        "colab": {
          "base_uri": "https://localhost:8080/"
        },
        "id": "ALGvKma5DSml",
        "outputId": "e050e308-87fa-4274-fb64-70f1c843061c"
      },
      "execution_count": null,
      "outputs": [
        {
          "output_type": "stream",
          "name": "stdout",
          "text": [
            "+----------------+----+------+------------+\n",
            "|       timestamp|team|userId|assignmentId|\n",
            "+----------------+----+------+------------+\n",
            "|26/05/2016 14:06|  64|   504|        5439|\n",
            "|26/05/2016 14:07|  39|  1698|        5301|\n",
            "|26/05/2016 14:07|  85|    81|        5540|\n",
            "|26/05/2016 14:07|  95|  1976|        5307|\n",
            "|26/05/2016 14:07|  97|  1009|        5368|\n",
            "|26/05/2016 14:07|  39|  1208|        5298|\n",
            "|26/05/2016 14:07|  70|  1665|        5011|\n",
            "|26/05/2016 14:07|  18|   665|        5235|\n",
            "|26/05/2016 14:07|  44|  1962|        5058|\n",
            "|26/05/2016 14:07|  59|   801|        5170|\n",
            "+----------------+----+------+------------+\n",
            "\n"
          ]
        }
      ]
    },
    {
      "cell_type": "code",
      "source": [
        "#Device distribution details\n",
        "user_sessdf = spark.read.csv(\"user-session.csv\", header=True, inferSchema=True)\n",
        "user_sessdf.createOrReplaceTempView(\"user_session\")\n",
        "user_sessdf = spark.sql(\"select platformType, count(*) as count from user_session group by platformType order by count desc limit 10\")\n",
        "user_sessdf.show()\n",
        "device_grp = user_sessdf.toPandas()\n"
      ],
      "metadata": {
        "id": "E5yfdXxTDvmW",
        "colab": {
          "base_uri": "https://localhost:8080/"
        },
        "outputId": "e1df7f4c-87c5-4090-e3cf-dd22e1b2986f"
      },
      "execution_count": null,
      "outputs": [
        {
          "output_type": "stream",
          "name": "stdout",
          "text": [
            "+------------+-----+\n",
            "|platformType|count|\n",
            "+------------+-----+\n",
            "|      iphone| 3874|\n",
            "|     android| 3274|\n",
            "|     windows| 1240|\n",
            "|       linux|  504|\n",
            "|         mac|  358|\n",
            "+------------+-----+\n",
            "\n"
          ]
        }
      ]
    },
    {
      "cell_type": "code",
      "source": [
        "device_grp"
      ],
      "metadata": {
        "colab": {
          "base_uri": "https://localhost:8080/",
          "height": 206
        },
        "id": "bATAE5u9jz3-",
        "outputId": "e4a8ac59-a0eb-44bc-fd0f-a976605ffaf3"
      },
      "execution_count": null,
      "outputs": [
        {
          "output_type": "execute_result",
          "data": {
            "text/plain": [
              "  platformType  count\n",
              "0       iphone   3874\n",
              "1      android   3274\n",
              "2      windows   1240\n",
              "3        linux    504\n",
              "4          mac    358"
            ],
            "text/html": [
              "\n",
              "  <div id=\"df-8135df94-c136-4901-8590-1f8963f2012b\">\n",
              "    <div class=\"colab-df-container\">\n",
              "      <div>\n",
              "<style scoped>\n",
              "    .dataframe tbody tr th:only-of-type {\n",
              "        vertical-align: middle;\n",
              "    }\n",
              "\n",
              "    .dataframe tbody tr th {\n",
              "        vertical-align: top;\n",
              "    }\n",
              "\n",
              "    .dataframe thead th {\n",
              "        text-align: right;\n",
              "    }\n",
              "</style>\n",
              "<table border=\"1\" class=\"dataframe\">\n",
              "  <thead>\n",
              "    <tr style=\"text-align: right;\">\n",
              "      <th></th>\n",
              "      <th>platformType</th>\n",
              "      <th>count</th>\n",
              "    </tr>\n",
              "  </thead>\n",
              "  <tbody>\n",
              "    <tr>\n",
              "      <th>0</th>\n",
              "      <td>iphone</td>\n",
              "      <td>3874</td>\n",
              "    </tr>\n",
              "    <tr>\n",
              "      <th>1</th>\n",
              "      <td>android</td>\n",
              "      <td>3274</td>\n",
              "    </tr>\n",
              "    <tr>\n",
              "      <th>2</th>\n",
              "      <td>windows</td>\n",
              "      <td>1240</td>\n",
              "    </tr>\n",
              "    <tr>\n",
              "      <th>3</th>\n",
              "      <td>linux</td>\n",
              "      <td>504</td>\n",
              "    </tr>\n",
              "    <tr>\n",
              "      <th>4</th>\n",
              "      <td>mac</td>\n",
              "      <td>358</td>\n",
              "    </tr>\n",
              "  </tbody>\n",
              "</table>\n",
              "</div>\n",
              "      <button class=\"colab-df-convert\" onclick=\"convertToInteractive('df-8135df94-c136-4901-8590-1f8963f2012b')\"\n",
              "              title=\"Convert this dataframe to an interactive table.\"\n",
              "              style=\"display:none;\">\n",
              "        \n",
              "  <svg xmlns=\"http://www.w3.org/2000/svg\" height=\"24px\"viewBox=\"0 0 24 24\"\n",
              "       width=\"24px\">\n",
              "    <path d=\"M0 0h24v24H0V0z\" fill=\"none\"/>\n",
              "    <path d=\"M18.56 5.44l.94 2.06.94-2.06 2.06-.94-2.06-.94-.94-2.06-.94 2.06-2.06.94zm-11 1L8.5 8.5l.94-2.06 2.06-.94-2.06-.94L8.5 2.5l-.94 2.06-2.06.94zm10 10l.94 2.06.94-2.06 2.06-.94-2.06-.94-.94-2.06-.94 2.06-2.06.94z\"/><path d=\"M17.41 7.96l-1.37-1.37c-.4-.4-.92-.59-1.43-.59-.52 0-1.04.2-1.43.59L10.3 9.45l-7.72 7.72c-.78.78-.78 2.05 0 2.83L4 21.41c.39.39.9.59 1.41.59.51 0 1.02-.2 1.41-.59l7.78-7.78 2.81-2.81c.8-.78.8-2.07 0-2.86zM5.41 20L4 18.59l7.72-7.72 1.47 1.35L5.41 20z\"/>\n",
              "  </svg>\n",
              "      </button>\n",
              "      \n",
              "  <style>\n",
              "    .colab-df-container {\n",
              "      display:flex;\n",
              "      flex-wrap:wrap;\n",
              "      gap: 12px;\n",
              "    }\n",
              "\n",
              "    .colab-df-convert {\n",
              "      background-color: #E8F0FE;\n",
              "      border: none;\n",
              "      border-radius: 50%;\n",
              "      cursor: pointer;\n",
              "      display: none;\n",
              "      fill: #1967D2;\n",
              "      height: 32px;\n",
              "      padding: 0 0 0 0;\n",
              "      width: 32px;\n",
              "    }\n",
              "\n",
              "    .colab-df-convert:hover {\n",
              "      background-color: #E2EBFA;\n",
              "      box-shadow: 0px 1px 2px rgba(60, 64, 67, 0.3), 0px 1px 3px 1px rgba(60, 64, 67, 0.15);\n",
              "      fill: #174EA6;\n",
              "    }\n",
              "\n",
              "    [theme=dark] .colab-df-convert {\n",
              "      background-color: #3B4455;\n",
              "      fill: #D2E3FC;\n",
              "    }\n",
              "\n",
              "    [theme=dark] .colab-df-convert:hover {\n",
              "      background-color: #434B5C;\n",
              "      box-shadow: 0px 1px 3px 1px rgba(0, 0, 0, 0.15);\n",
              "      filter: drop-shadow(0px 1px 2px rgba(0, 0, 0, 0.3));\n",
              "      fill: #FFFFFF;\n",
              "    }\n",
              "  </style>\n",
              "\n",
              "      <script>\n",
              "        const buttonEl =\n",
              "          document.querySelector('#df-8135df94-c136-4901-8590-1f8963f2012b button.colab-df-convert');\n",
              "        buttonEl.style.display =\n",
              "          google.colab.kernel.accessAllowed ? 'block' : 'none';\n",
              "\n",
              "        async function convertToInteractive(key) {\n",
              "          const element = document.querySelector('#df-8135df94-c136-4901-8590-1f8963f2012b');\n",
              "          const dataTable =\n",
              "            await google.colab.kernel.invokeFunction('convertToInteractive',\n",
              "                                                     [key], {});\n",
              "          if (!dataTable) return;\n",
              "\n",
              "          const docLinkHtml = 'Like what you see? Visit the ' +\n",
              "            '<a target=\"_blank\" href=https://colab.research.google.com/notebooks/data_table.ipynb>data table notebook</a>'\n",
              "            + ' to learn more about interactive tables.';\n",
              "          element.innerHTML = '';\n",
              "          dataTable['output_type'] = 'display_data';\n",
              "          await google.colab.output.renderOutput(dataTable, element);\n",
              "          const docLink = document.createElement('div');\n",
              "          docLink.innerHTML = docLinkHtml;\n",
              "          element.appendChild(docLink);\n",
              "        }\n",
              "      </script>\n",
              "    </div>\n",
              "  </div>\n",
              "  "
            ]
          },
          "metadata": {},
          "execution_count": 123
        }
      ]
    },
    {
      "cell_type": "code",
      "source": [
        "import matplotlib.pyplot as plt\n",
        "import seaborn as sns\n",
        "#sns.pie(x='platformType',y='count',data=device_grp).set(title='Year Wise Distribution')\n",
        "sns.barplot(x='platformType',y='count',data=device_grp).set(title='Device Wise Distribution')\n"
      ],
      "metadata": {
        "colab": {
          "base_uri": "https://localhost:8080/",
          "height": 313
        },
        "id": "-CQZNRXQ05ff",
        "outputId": "5727ee47-16ba-421f-d9f9-3466511a65e9"
      },
      "execution_count": null,
      "outputs": [
        {
          "output_type": "execute_result",
          "data": {
            "text/plain": [
              "[Text(0.5, 1.0, 'Device Wise Distribution')]"
            ]
          },
          "metadata": {},
          "execution_count": 124
        },
        {
          "output_type": "display_data",
          "data": {
            "text/plain": [
              "<Figure size 432x288 with 1 Axes>"
            ],
            "image/png": "[encoded data removed]"
          },
          "metadata": {
            "needs_background": "light"
          }
        }
      ]
    },
    {
      "cell_type": "code",
      "source": [
        "my_labels=device_grp.platformType\n",
        "device_grp.plot.pie(labels = my_labels,y=\"count\",autopct='%1.1f%%', figsize=(8,7)) \n",
        "plt.title(\"Percentage distribution of Various devices\")\n",
        "plt.legend(my_labels, loc=\"best\", fontsize=7)\n"
      ],
      "metadata": {
        "colab": {
          "base_uri": "https://localhost:8080/",
          "height": 445
        },
        "id": "KBpa4hbc0MQC",
        "outputId": "7ce10bc6-9f4f-48e3-d8ae-46fcc449c431"
      },
      "execution_count": null,
      "outputs": [
        {
          "output_type": "execute_result",
          "data": {
            "text/plain": [
              "<matplotlib.legend.Legend at 0x7f82afdaa150>"
            ]
          },
          "metadata": {},
          "execution_count": 125
        },
        {
          "output_type": "display_data",
          "data": {
            "text/plain": [
              "<Figure size 576x504 with 1 Axes>"
            ],
            "image/png": "[encoded data removed]"
          },
          "metadata": {}
        }
      ]
    },
    {
      "cell_type": "code",
      "source": [
        "#Device wise user and team"
      ],
      "metadata": {
        "id": "C08m0owFnUD9"
      },
      "execution_count": null,
      "outputs": []
    },
    {
      "cell_type": "code",
      "source": [
        "user_sessdf_dev = spark.read.csv(\"user-session.csv\", header=True, inferSchema=True)\n",
        "user_sessdf_dev.createOrReplaceTempView(\"user_session\")\n",
        "user_sessdf_dev = spark.sql(\"select userID,teamID, platformType, count(*) as count from user_session group by userID,teamID,platformType order by count desc limit 10\")\n",
        "user_sessdf_dev.show()\n",
        "device_grp_dev = user_sessdf_dev.toPandas()"
      ],
      "metadata": {
        "colab": {
          "base_uri": "https://localhost:8080/"
        },
        "id": "fSK_VtLnnLqh",
        "outputId": "4ea6ad6d-d00b-4cb7-8146-d35f6228851f"
      },
      "execution_count": null,
      "outputs": [
        {
          "output_type": "stream",
          "name": "stdout",
          "text": [
            "+------+------+------------+-----+\n",
            "|userID|teamID|platformType|count|\n",
            "+------+------+------------+-----+\n",
            "|  1742|    85|     android|   16|\n",
            "|   859|    70|     android|   16|\n",
            "|  1815|    32|      iphone|   16|\n",
            "|   801|    59|      iphone|   14|\n",
            "|   662|    28|      iphone|   14|\n",
            "|  1072|    13|      iphone|   14|\n",
            "|  1016|   111|     windows|   14|\n",
            "|   223|    75|     android|   14|\n",
            "|   352|    94|      iphone|   14|\n",
            "|  1270|    74|      iphone|   14|\n",
            "+------+------+------------+-----+\n",
            "\n"
          ]
        }
      ]
    },
    {
      "cell_type": "code",
      "source": [
        "#g = sns.relplot(data=device_grp_dev, x=\"userID\", y=\"teamID\", col=\"platformType\")\n",
        "#g.set_axis_labels(\"UserId\", \"TeamId\")"
      ],
      "metadata": {
        "id": "_3UCgX00rgA-"
      },
      "execution_count": null,
      "outputs": []
    },
    {
      "cell_type": "code",
      "source": [
        "#sns.displot(data=device_grp_dev, x=\"platformType\", hue=\"count\", col=\"userID\")\n"
      ],
      "metadata": {
        "id": "vImEiQs6n4N4"
      },
      "execution_count": null,
      "outputs": []
    },
    {
      "cell_type": "code",
      "source": [
        "#Top user id highest team level\n",
        "user_sess_team= spark.read.csv(\"user-session.csv\", header=True, inferSchema=True)\n",
        "user_sess_team.createOrReplaceTempView(\"user_session\")\n",
        "team_level = spark.sql(\"select userId,teamLevel, count(*) as count from user_session group by userId,teamLevel order by teamLevel desc limit 10\")\n",
        "team_level.show()\n",
        "team_level_df = team_level.toPandas()"
      ],
      "metadata": {
        "colab": {
          "base_uri": "https://localhost:8080/"
        },
        "id": "dYW8V44St3TM",
        "outputId": "d800cc77-9f46-45af-c9da-b390cad9b39e"
      },
      "execution_count": null,
      "outputs": [
        {
          "output_type": "stream",
          "name": "stdout",
          "text": [
            "+------+---------+-----+\n",
            "|userId|teamLevel|count|\n",
            "+------+---------+-----+\n",
            "|  1721|        8|    2|\n",
            "|  1742|        8|    2|\n",
            "|  1815|        8|    2|\n",
            "|   859|        8|    2|\n",
            "|    75|        8|    2|\n",
            "|  2214|        7|    2|\n",
            "|   455|        7|    2|\n",
            "|  1558|        7|    2|\n",
            "|  2341|        7|    2|\n",
            "|   995|        7|    2|\n",
            "+------+---------+-----+\n",
            "\n"
          ]
        }
      ]
    },
    {
      "cell_type": "code",
      "source": [
        "#Top UserId with Teamlevel\n",
        "import matplotlib.pyplot as plt\n",
        "import seaborn as sns\n",
        "sns.barplot(x='userId',y='teamLevel',data=team_level_df).set(title='Team level')\n"
      ],
      "metadata": {
        "id": "VSLenSieneOZ",
        "colab": {
          "base_uri": "https://localhost:8080/",
          "height": 313
        },
        "outputId": "0918c63b-28be-4733-8613-420be8516a27"
      },
      "execution_count": null,
      "outputs": [
        {
          "output_type": "execute_result",
          "data": {
            "text/plain": [
              "[Text(0.5, 1.0, 'Team level')]"
            ]
          },
          "metadata": {},
          "execution_count": 131
        },
        {
          "output_type": "display_data",
          "data": {
            "text/plain": [
              "<Figure size 432x288 with 1 Axes>"
            ],
            "image/png": "[encoded data removed]"
          },
          "metadata": {
            "needs_background": "light"
          }
        }
      ]
    },
    {
      "cell_type": "code",
      "source": [
        "#Top 10 buyer\n",
        "df = spark.read.csv(\"buy-clicks.csv\", header=True, inferSchema=True)\n",
        "df.createOrReplaceTempView(\"buy_click\")\n",
        "sqlDF = spark.sql(\"select  team ,sum(price) from buy_click group by team order by sum(price) desc limit 10\")\n",
        "sqlDF.show()\n",
        "type(sqlDF)\n",
        "top_10_team = sqlDF.toPandas()\n",
        "import matplotlib.pyplot as plt\n",
        "import seaborn as sns\n",
        "plt.figure();\n",
        "#top_10_team.plot.barh( x=\"team\", y=\"sum(price)\",color=['Blue', 'red', 'green'],title='Top 10 Buyer ',xlabel='Team',ylabel='Price')\n",
        "sns.barplot(data=top_10_team, x=\"team\", y=\"sum(price)\",palette=\"rocket\").set(title='Top 10 Buyer')\n"
      ],
      "metadata": {
        "colab": {
          "base_uri": "https://localhost:8080/",
          "height": 587
        },
        "id": "wV7iYBcIU9a7",
        "outputId": "cee88702-a37d-40db-913a-523afe1cb369"
      },
      "execution_count": null,
      "outputs": [
        {
          "output_type": "stream",
          "name": "stdout",
          "text": [
            "+----+----------+\n",
            "|team|sum(price)|\n",
            "+----+----------+\n",
            "|  27|     880.0|\n",
            "|  54|     777.0|\n",
            "|  35|     710.0|\n",
            "|  64|     693.0|\n",
            "|  53|     677.0|\n",
            "|  66|     647.0|\n",
            "|  59|     644.0|\n",
            "|  11|     587.0|\n",
            "|  97|     549.0|\n",
            "|  22|     535.0|\n",
            "+----+----------+\n",
            "\n"
          ]
        },
        {
          "output_type": "execute_result",
          "data": {
            "text/plain": [
              "[Text(0.5, 1.0, 'Top 10 Buyer')]"
            ]
          },
          "metadata": {},
          "execution_count": 140
        },
        {
          "output_type": "display_data",
          "data": {
            "text/plain": [
              "<Figure size 432x288 with 1 Axes>"
            ],
            "image/png": "[encoded data removed]"
          },
          "metadata": {
            "needs_background": "light"
          }
        }
      ]
    },
    {
      "cell_type": "code",
      "source": [
        "#**How many times each item was purchased**\n",
        "sqlDF = spark.sql(\"select  buyID ,count(*) as purchased from buy_click group by buyID order by purchased desc\")\n",
        "sqlDF.show()\n",
        "type(sqlDF)\n",
        "top_purchase = sqlDF.toPandas()\n",
        "import matplotlib.pyplot as plt\n",
        "plt.figure();\n",
        "top_purchase.plot.bar( x=\"buyID\",color=['green'],title='Times each item Purchased',xlabel='Buyer ID',ylabel='Purchased Volume')"
      ],
      "metadata": {
        "colab": {
          "base_uri": "https://localhost:8080/",
          "height": 529
        },
        "id": "FqFjPCKOU_PX",
        "outputId": "17c23c32-429c-48cc-d4e3-b5b019b67032"
      },
      "execution_count": null,
      "outputs": [
        {
          "output_type": "stream",
          "name": "stdout",
          "text": [
            "+-----+---------+\n",
            "|buyID|purchased|\n",
            "+-----+---------+\n",
            "|    2|      714|\n",
            "|    5|      610|\n",
            "|    0|      592|\n",
            "|    4|      425|\n",
            "|    3|      337|\n",
            "|    1|      269|\n",
            "+-----+---------+\n",
            "\n"
          ]
        },
        {
          "output_type": "execute_result",
          "data": {
            "text/plain": [
              "<matplotlib.axes._subplots.AxesSubplot at 0x7f82b0f83b90>"
            ]
          },
          "metadata": {},
          "execution_count": 141
        },
        {
          "output_type": "display_data",
          "data": {
            "text/plain": [
              "<Figure size 432x288 with 0 Axes>"
            ]
          },
          "metadata": {}
        },
        {
          "output_type": "display_data",
          "data": {
            "text/plain": [
              "<Figure size 432x288 with 1 Axes>"
            ],
            "image/png": "[encoded data removed]"
          },
          "metadata": {
            "needs_background": "light"
          }
        }
      ]
    },
    {
      "cell_type": "code",
      "source": [
        "#how much money was made from each item\n",
        "sqlDF = spark.sql(\"select buyID , sum(price) as amount from buy_click group by buyID order by amount desc\")\n",
        "sqlDF.show()\n",
        "type(sqlDF)\n",
        "amt_made = sqlDF.toPandas()\n",
        "import matplotlib.pyplot as plt\n",
        "plt.figure();\n",
        "amt_made.plot.barh( x=\"buyID\",color=['blue'],title='Total Money Made',xlabel='buyId',ylabel='Amount')"
      ],
      "metadata": {
        "colab": {
          "base_uri": "https://localhost:8080/",
          "height": 518
        },
        "id": "oEfo3a86bPAT",
        "outputId": "14540e66-fa7d-4be6-dab6-b5c333470318"
      },
      "execution_count": null,
      "outputs": [
        {
          "output_type": "stream",
          "name": "stdout",
          "text": [
            "+-----+-------+\n",
            "|buyID| amount|\n",
            "+-----+-------+\n",
            "|    5|12200.0|\n",
            "|    4| 4250.0|\n",
            "|    2| 2142.0|\n",
            "|    3| 1685.0|\n",
            "|    0|  592.0|\n",
            "|    1|  538.0|\n",
            "+-----+-------+\n",
            "\n"
          ]
        },
        {
          "output_type": "execute_result",
          "data": {
            "text/plain": [
              "<matplotlib.axes._subplots.AxesSubplot at 0x7f82af8f5e10>"
            ]
          },
          "metadata": {},
          "execution_count": 142
        },
        {
          "output_type": "display_data",
          "data": {
            "text/plain": [
              "<Figure size 432x288 with 0 Axes>"
            ]
          },
          "metadata": {}
        },
        {
          "output_type": "display_data",
          "data": {
            "text/plain": [
              "<Figure size 432x288 with 1 Axes>"
            ],
            "image/png": "[encoded data removed]"
          },
          "metadata": {
            "needs_background": "light"
          }
        }
      ]
    },
    {
      "cell_type": "code",
      "source": [
        "#Top 10 user spender\n",
        "sqlDF = spark.sql(\"select userId , sum(price) as amount from buy_click group by userId order by amount desc limit 10\")\n",
        "sqlDF.show()\n",
        "type(sqlDF)\n",
        "amt_spent = sqlDF.toPandas()\n",
        "import matplotlib.pyplot as plt\n",
        "plt.figure();\n",
        "amt_spent.plot.barh( x=\"userId\",color=['red'],title='Money Spent',xlabel='userID',ylabel='Amount')"
      ],
      "metadata": {
        "colab": {
          "base_uri": "https://localhost:8080/",
          "height": 592
        },
        "id": "yxQnLHKQb-mP",
        "outputId": "a3f4e6a4-4170-47a5-893f-714a52cf2e27"
      },
      "execution_count": null,
      "outputs": [
        {
          "output_type": "stream",
          "name": "stdout",
          "text": [
            "+------+------+\n",
            "|userId|amount|\n",
            "+------+------+\n",
            "|  2229| 223.0|\n",
            "|    12| 215.0|\n",
            "|   471| 202.0|\n",
            "|   511| 200.0|\n",
            "|  1027| 189.0|\n",
            "|  1260| 183.0|\n",
            "|   670| 183.0|\n",
            "|   352| 180.0|\n",
            "|  1697| 172.0|\n",
            "|  1732| 172.0|\n",
            "+------+------+\n",
            "\n"
          ]
        },
        {
          "output_type": "execute_result",
          "data": {
            "text/plain": [
              "<matplotlib.axes._subplots.AxesSubplot at 0x7f82af891210>"
            ]
          },
          "metadata": {},
          "execution_count": 143
        },
        {
          "output_type": "display_data",
          "data": {
            "text/plain": [
              "<Figure size 432x288 with 0 Axes>"
            ]
          },
          "metadata": {}
        },
        {
          "output_type": "display_data",
          "data": {
            "text/plain": [
              "<Figure size 432x288 with 1 Axes>"
            ],
            "image/png": "[encoded data removed]"
          },
          "metadata": {
            "needs_background": "light"
          }
        }
      ]
    },
    {
      "cell_type": "code",
      "source": [
        "#**Top 10 ad on the game**\n",
        "df = spark.read.csv(\"ad-clicks.csv\", header=True, inferSchema=True)\n",
        "df.createOrReplaceTempView(\"ad_clicks\")\n",
        "sqlDF = spark.sql(\"select adCategory, count(*) as volumne from ad_clicks group by adCategory order by volumne desc limit 10  \")\n",
        "sqlDF.show()\n",
        "type(sqlDF)\n",
        "top_10_cat = sqlDF.toPandas()\n",
        "import matplotlib.pyplot as plt\n",
        "plt.figure();\n",
        "top_10_cat.plot.bar( x=\"adCategory\",color=['green'],title='Top 10 Advertising Category ',xlabel='Ad Category',ylabel='Volume')\n",
        "\n"
      ],
      "metadata": {
        "colab": {
          "base_uri": "https://localhost:8080/",
          "height": 634
        },
        "id": "OY11bng6c6Sr",
        "outputId": "392d5292-f4dc-4426-e5fd-8a8be0f8b004"
      },
      "execution_count": 145,
      "outputs": [
        {
          "output_type": "stream",
          "name": "stdout",
          "text": [
            "+-----------+-------+\n",
            "| adCategory|volumne|\n",
            "+-----------+-------+\n",
            "|  computers|   2638|\n",
            "|      games|   2601|\n",
            "|   clothing|   2340|\n",
            "|     sports|   2074|\n",
            "|    fashion|   1727|\n",
            "|     movies|   1692|\n",
            "|   hardware|   1588|\n",
            "|electronics|   1097|\n",
            "| automotive|    566|\n",
            "+-----------+-------+\n",
            "\n"
          ]
        },
        {
          "output_type": "execute_result",
          "data": {
            "text/plain": [
              "<matplotlib.axes._subplots.AxesSubplot at 0x7f82af95e3d0>"
            ]
          },
          "metadata": {},
          "execution_count": 145
        },
        {
          "output_type": "display_data",
          "data": {
            "text/plain": [
              "<Figure size 432x288 with 0 Axes>"
            ]
          },
          "metadata": {}
        },
        {
          "output_type": "display_data",
          "data": {
            "text/plain": [
              "<Figure size 432x288 with 1 Axes>"
            ],
            "image/png": "[encoded data removed]"
          },
          "metadata": {
            "needs_background": "light"
          }
        }
      ]
    }
  ]
}